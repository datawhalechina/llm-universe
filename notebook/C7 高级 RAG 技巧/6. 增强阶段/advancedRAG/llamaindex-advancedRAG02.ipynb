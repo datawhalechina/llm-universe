{
 "cells": [
  {
   "cell_type": "markdown",
   "metadata": {
    "colab_type": "text",
    "id": "view-in-github"
   },
   "source": [
    "<a href=\"https://colab.research.google.com/github/sugarforever/Advanced-RAG/blob/main/03_llama_index_multi_doc_agent.ipynb\" target=\"_parent\"><img src=\"https://colab.research.google.com/assets/colab-badge.svg\" alt=\"Open In Colab\"/></a>"
   ]
  },
  {
   "cell_type": "markdown",
   "metadata": {
    "id": "wXoO6jXcAH3x"
   },
   "source": [
    "# 查询路由和Multi-Document Agent相关概念\n",
    "\n"
   ]
  },
  {
   "cell_type": "markdown",
   "metadata": {},
   "source": [
    "# 查询路由\n",
    "查询路由是LLM驱动的关键决策环节，它决定了在接收到用户查询后应采取的最佳行动——可能的行动包括生成摘要、对特定数据索引执行搜索或尝试多种不同的路由策略，并将它们的输出汇总成一个统一的答案。\n",
    "\n",
    "查询路由还负责选择最合适的数据存储位置来响应用户查询。这些数据存储位置可以是多种形式，如传统的向量存储、图形数据库、关系型数据库，或是分层次的索引系统。在处理包含多个文档的存储时，通常会利用两种不同的索引方式：摘要索引和文档块向量索引。\n",
    "\n",
    "定义查询路由器涉及设定它可以采取的行动选项。\n",
    "\n",
    "选择特定路由的过程是通过调用大型语言模型来实现的，其结果会按照预定义的格式返回，以便将查询定向到指定的索引。如果涉及到复杂的关联操作，这些查询还可能被发送到子链或其他智能体，如下文所述的多文档智能体方案所示。\n",
    "\n",
    "LlamaIndex和LangChain都提供了对查询路由的支持。\n",
    "\n",
    "## 智能体（Agent）\n",
    "在智能体技术的实现上，尤其是在基于大型语言模型（LLM）的智能体构建中，LLM在智能体的智能化中扮演着至关重要的角色。这些智能体能够通过整合LLM与规划、记忆以及其他关键技术模块，执行复杂的任务。在此框架中，LLM充当核心处理单元或“大脑”，负责管理和执行为特定任务或响应用户查询所需的一系列操作。\n",
    "智能体也是Langchain和LlamaIndex支持的一个概念，它从第一个LLM API发布之初就已存在。这个概念旨在为具备推理能力的LLM提供一套工具和任务。这些工具可能包括一些确定性的功能，如代码函数或外部API，甚至包括其他智能体——这种LLM之间的链接是LangChain名称的灵感来源。\n",
    "智能体本身是一个复杂的技术，下面将继续基于智能体的多文档检索案例，并在下文将要介绍的RAG系统中发挥作用。\n",
    "在LlamaIndex中，有一个OpenAIAgent类，它将这种高级逻辑与ChatEngine和QueryEngine类结合在一起，提供基于知识和上下文感知的聊天，以及在一个对话轮次中调用多个OpenAI函数的能力，这真正实现了智能代理行为。\n",
    "\n",
    "## 多文档智能体方案\n",
    "![mda](.\\mda.png)\n",
    "\n",
    "多文档智能体的方案是一个高度复杂的配置，它在每个文档上初始化一个Agent（OpenAIAgent），该智能体能进行文档摘要制作和传统问答机制的操作，还有一个顶层智能体，负责将查询分配到各个文档智能体，并综合形成最终的答案。\n",
    "\n",
    "每个文档智能体都配备了两个工具：向量存储索引和摘要索引，它根据路由查询来决定使用哪一个。对于顶层智能体来说，所有文档智能体都是其工具。\n",
    "\n",
    "该方案展示了一种高级RAG架构，其中每个智能体都进行多个决策的导航。这种方法的优势在于能够比较不同的解决方案或实体在不同文档及其摘要中的描述，以及传统的单个文档摘要和QA机制——这基本上涵盖了与文档集合聊天的最常见用例。\n",
    "\n",
    "这种复杂配置的缺点在于，由于需要在智能体内部的大语言模型之间进行多次往返迭代，其运行速度较慢。值得一提的是，LLM调用通常是RAG管道中最耗时的操作，而搜索则是为了速度而优化的设计。因此，对于大型的多文档存储，建议考虑对这种方案进行简化，以便实现扩展。\n",
    "\n",
    "下面将根据llamaindex官方示例进行讲解"
   ]
  },
  {
   "cell_type": "code",
   "execution_count": 1,
   "metadata": {
    "id": "8Bw2iRQjEk8z"
   },
   "outputs": [],
   "source": [
    "import os\n",
    "import openai\n",
    "\n",
    "os.environ[\"OPENAI_API_KEY\"] = \"sk-你的sk\"\n",
    "openai.api_key = os.environ[\"OPENAI_API_KEY\"]"
   ]
  },
  {
   "cell_type": "code",
   "execution_count": 32,
   "metadata": {
    "id": "2586El8ibhjc"
   },
   "outputs": [],
   "source": [
    "from llama_index.core import (\n",
    "    VectorStoreIndex,\n",
    "    SimpleKeywordTableIndex,\n",
    "    SimpleDirectoryReader,\n",
    ")\n",
    "from llama_index.core import SummaryIndex\n",
    "from llama_index.core.schema import IndexNode\n",
    "from llama_index.core.tools import QueryEngineTool, ToolMetadata\n",
    "from llama_index.llms.openai import OpenAI\n",
    "from llama_index.core.callbacks import CallbackManager"
   ]
  },
  {
   "cell_type": "code",
   "execution_count": 33,
   "metadata": {
    "id": "W9BtxyvNnEl1"
   },
   "outputs": [],
   "source": [
    "wiki_titles = [\n",
    "    \"Toronto\",\n",
    "    \"Seattle\",\n",
    "    \"Chicago\",\n",
    "    \"Boston\",\n",
    "    \"Houston\",\n",
    "    \"Tokyo\",\n",
    "    \"Berlin\",\n",
    "    \"Lisbon\",\n",
    "    \"Paris\",\n",
    "    \"London\",\n",
    "    \"Atlanta\",\n",
    "    \"Munich\",\n",
    "    \"Shanghai\",\n",
    "    \"Beijing\",\n",
    "    \"Copenhagen\",\n",
    "    \"Moscow\",\n",
    "    \"Cairo\",\n",
    "    \"Karachi\",\n",
    "]"
   ]
  },
  {
   "cell_type": "markdown",
   "metadata": {},
   "source": [
    "## 将爬取到的文档存在本地 将在下面构建多文档智能体"
   ]
  },
  {
   "cell_type": "code",
   "execution_count": 35,
   "metadata": {
    "id": "HVmr7ayEnG-6"
   },
   "outputs": [],
   "source": [
    "from pathlib import Path\n",
    "\n",
    "import requests\n",
    "\n",
    "for title in wiki_titles:\n",
    "    response = requests.get(\n",
    "        \"https://en.wikipedia.org/w/api.php\",\n",
    "        params={\n",
    "            \"action\": \"query\",\n",
    "            \"format\": \"json\",\n",
    "            \"titles\": title,\n",
    "            \"prop\": \"extracts\",\n",
    "            # 'exintro': True,\n",
    "            \"explaintext\": True,\n",
    "        },\n",
    "    ).json()\n",
    "    page = next(iter(response[\"query\"][\"pages\"].values()))\n",
    "    wiki_text = page[\"extract\"]\n",
    "\n",
    "    data_path = Path(\"data\")\n",
    "    if not data_path.exists():\n",
    "        Path.mkdir(data_path)\n",
    "\n",
    "    with open(data_path / f\"{title}.txt\", \"w\",encoding=\"utf-8\") as fp:\n",
    "        fp.write(wiki_text)"
   ]
  },
  {
   "cell_type": "code",
   "execution_count": 36,
   "metadata": {
    "id": "_pC4oWUhnKVB"
   },
   "outputs": [],
   "source": [
    "# Load all wiki documents\n",
    "city_docs = {}\n",
    "for wiki_title in wiki_titles:\n",
    "    city_docs[wiki_title] = SimpleDirectoryReader(\n",
    "        input_files=[f\"data/{wiki_title}.txt\"]\n",
    "    ).load_data()"
   ]
  },
  {
   "cell_type": "code",
   "execution_count": 37,
   "metadata": {
    "colab": {
     "base_uri": "https://localhost:8080/"
    },
    "id": "aZZYj1NWnL9m",
    "outputId": "61a67bb1-2e77-4af3-ce62-9ff3d6201a7b"
   },
   "outputs": [],
   "source": [
    "from llama_index.llms.openai import OpenAI\n",
    "from llama_index.embeddings.openai import OpenAIEmbedding\n",
    "from llama_index.core import Settings\n",
    "\n",
    "Settings.llm = OpenAI(temperature=0, model=\"gpt-3.5-turbo\")\n",
    "Settings.embed_model = OpenAIEmbedding(model=\"text-embedding-ada-002\")"
   ]
  },
  {
   "cell_type": "markdown",
   "metadata": {},
   "source": [
    "\n",
    "## 在下面小节中，将展示如何构建多文档智能体。首先为每个文档构建一个文档智能体，然后定义一个带有对象索引的顶层父级智能体。\n",
    "\n",
    "为每个文档构建文档智能体\n",
    "1.在本节中，为每个文档定义了“文档智能体”。\n",
    "\n",
    "2.为每个文档定义了一个向量索引（用于语义搜索）和摘要索引（用于生成摘要）。然后将这两个查询引擎转换为工具，并传递给调用OpenAI函数的智能体。\n",
    "\n",
    "3.该文档智能体可以动态选择在给定文档内执行语义搜索或生成摘要。\n",
    "\n",
    "4.我们为每个城市文档创建了一个单独的文档智能体。"
   ]
  },
  {
   "cell_type": "code",
   "execution_count": 39,
   "metadata": {
    "id": "BLZ1EV80nQOF"
   },
   "outputs": [],
   "source": [
    "from llama_index.agent.openai import OpenAIAgent\n",
    "from llama_index.core import load_index_from_storage, StorageContext\n",
    "from llama_index.core.node_parser import SentenceSplitter\n",
    "import os\n",
    "\n",
    "node_parser = SentenceSplitter()\n",
    "\n",
    "# Build agents dictionary\n",
    "agents = {}\n",
    "query_engines = {}\n",
    "\n",
    "# this is for the baseline\n",
    "all_nodes = []\n",
    "\n",
    "for idx, wiki_title in enumerate(wiki_titles):\n",
    "    nodes = node_parser.get_nodes_from_documents(city_docs[wiki_title])\n",
    "    all_nodes.extend(nodes)\n",
    "\n",
    "    if not os.path.exists(f\"./data/{wiki_title}\"):\n",
    "        # build vector index\n",
    "        vector_index = VectorStoreIndex(nodes)\n",
    "        vector_index.storage_context.persist(\n",
    "            persist_dir=f\"./data/{wiki_title}\"\n",
    "        )\n",
    "    else:\n",
    "        vector_index = load_index_from_storage(\n",
    "            StorageContext.from_defaults(persist_dir=f\"./data/{wiki_title}\"),\n",
    "        )\n",
    "\n",
    "    # build summary index\n",
    "    summary_index = SummaryIndex(nodes)\n",
    "    # define query engines\n",
    "    vector_query_engine = vector_index.as_query_engine(llm=llm)\n",
    "    summary_query_engine = summary_index.as_query_engine(llm=llm)\n",
    "\n",
    "    # define tools\n",
    "    query_engine_tools = [\n",
    "        QueryEngineTool(\n",
    "            query_engine=vector_query_engine,\n",
    "            metadata=ToolMetadata(\n",
    "                name=\"vector_tool\",\n",
    "                description=(\n",
    "                    \"Useful for questions related to specific aspects of\"\n",
    "                    f\" {wiki_title} (e.g. the history, arts and culture,\"\n",
    "                    \" sports, demographics, or more).\"\n",
    "                ),\n",
    "            ),\n",
    "        ),\n",
    "        QueryEngineTool(\n",
    "            query_engine=summary_query_engine,\n",
    "            metadata=ToolMetadata(\n",
    "                name=\"summary_tool\",\n",
    "                description=(\n",
    "                    \"Useful for any requests that require a holistic summary\"\n",
    "                    f\" of EVERYTHING about {wiki_title}. For questions about\"\n",
    "                    \" more specific sections, please use the vector_tool.\"\n",
    "                ),\n",
    "            ),\n",
    "        ),\n",
    "    ]\n",
    "\n",
    "    # build agent\n",
    "    function_llm = OpenAI(model=\"gpt-3.5-turbo\")\n",
    "    agent = OpenAIAgent.from_tools(\n",
    "        query_engine_tools,\n",
    "        llm=function_llm,\n",
    "        verbose=True,\n",
    "        system_prompt=f\"\"\"\\\n",
    "You are a specialized agent designed to answer queries about {wiki_title}.\n",
    "You must ALWAYS use at least one of the tools provided when answering a question; do NOT rely on prior knowledge.\\\n",
    "\"\"\",\n",
    "    )\n",
    "\n",
    "    agents[wiki_title] = agent\n",
    "    query_engines[wiki_title] = vector_index.as_query_engine(\n",
    "        similarity_top_k=2\n",
    "    )"
   ]
  },
  {
   "cell_type": "markdown",
   "metadata": {},
   "source": [
    "# 构建检索器支持的OpenAI智能体\n",
    "\n",
    "下面构建了一个顶层智能体，它可以协调不同的文档智能体来回答用户的任何查询。\n",
    "\n",
    "这个智能体将所有文档智能体作为工具。这个特定的智能体`RetrieverOpenAIAgent`在工具使用前执行工具检索（不同于默认智能体，后者尝试将所有工具放入提示中）。\n",
    "\n",
    "在这里，使用了一个top-k检索器，也可以自定义其他工具检索方法！"
   ]
  },
  {
   "cell_type": "code",
   "execution_count": 40,
   "metadata": {
    "id": "Mm_T_N1SnXXn"
   },
   "outputs": [],
   "source": [
    "# define tool for each document agent\n",
    "all_tools = []\n",
    "for wiki_title in wiki_titles:\n",
    "    wiki_summary = (\n",
    "        f\"This content contains Wikipedia articles about {wiki_title}. Use\"\n",
    "        f\" this tool if you want to answer any questions about {wiki_title}.\\n\"\n",
    "    )\n",
    "    doc_tool = QueryEngineTool(\n",
    "        query_engine=agents[wiki_title],\n",
    "        metadata=ToolMetadata(\n",
    "            name=f\"tool_{wiki_title}\",\n",
    "            description=wiki_summary,\n",
    "        ),\n",
    "    )\n",
    "    all_tools.append(doc_tool)"
   ]
  },
  {
   "cell_type": "code",
   "execution_count": 41,
   "metadata": {
    "id": "T5Vskzn9nY42"
   },
   "outputs": [],
   "source": [
    "# define an \"object\" index and retriever over these tools\n",
    "from llama_index.core import VectorStoreIndex\n",
    "from llama_index.core.objects import ObjectIndex\n",
    "\n",
    "obj_index = ObjectIndex.from_objects(\n",
    "    all_tools,\n",
    "    index_cls=VectorStoreIndex,\n",
    ")"
   ]
  },
  {
   "cell_type": "code",
   "execution_count": 42,
   "metadata": {
    "id": "jBsCUADsnaZt"
   },
   "outputs": [],
   "source": [
    "from llama_index.agent.openai import OpenAIAgent\n",
    "\n",
    "top_agent = OpenAIAgent.from_tools(\n",
    "    tool_retriever=obj_index.as_retriever(similarity_top_k=3),\n",
    "    system_prompt=\"\"\" \\\n",
    "You are an agent designed to answer queries about a set of given cities.\n",
    "Please always use the tools provided to answer a question. Do not rely on prior knowledge.\\\n",
    "\n",
    "\"\"\",\n",
    "    verbose=True,\n",
    ")"
   ]
  },
  {
   "cell_type": "markdown",
   "metadata": {},
   "source": [
    "# 定义基线向量存储索引\n",
    "\n",
    "作为比较的基准，我们定义了一个“朴素”的RAG流程，它将所有文档倾泻到一个单一的向量索引集合中。\n",
    "\n",
    "我们设置 top_k = 4"
   ]
  },
  {
   "cell_type": "code",
   "execution_count": 43,
   "metadata": {},
   "outputs": [],
   "source": [
    "base_index = VectorStoreIndex(all_nodes)\n",
    "base_query_engine = base_index.as_query_engine(similarity_top_k=4)"
   ]
  },
  {
   "cell_type": "markdown",
   "metadata": {},
   "source": [
    "# 执行示例查询\n",
    "\n",
    "执行一些示例查询，范围从单个文档的问答/摘要到多个文档的问答/摘要。"
   ]
  },
  {
   "cell_type": "code",
   "execution_count": 44,
   "metadata": {
    "colab": {
     "base_uri": "https://localhost:8080/"
    },
    "id": "UpragtnandB7",
    "outputId": "7247b8fd-a9e7-467d-cbb1-14405c8fd256"
   },
   "outputs": [
    {
     "name": "stdout",
     "output_type": "stream",
     "text": [
      "Added user message to memory: Tell me about the arts and culture in Boston\n",
      "=== Calling Function ===\n",
      "Calling function: tool_Boston with args: {\"input\":\"arts and culture\"}\n",
      "Added user message to memory: arts and culture\n",
      "=== Calling Function ===\n",
      "Calling function: vector_tool with args: {\"input\":\"arts and culture in Boston\"}\n",
      "Got output: Boston has a rich cultural scene with a strong emphasis on arts and music. The city is home to several art museums and galleries, including the Museum of Fine Arts and the Isabella Stewart Gardner Museum. The Boston Symphony Orchestra, one of the \"Big Five\" American orchestras, is based in Symphony Hall. Boston also hosts various performing arts organizations, such as the Boston Ballet, Boston Lyric Opera Company, and the Handel and Haydn Society. Additionally, the city is known for its literary culture, with historical figures like Ralph Waldo Emerson and Nathaniel Hawthorne contributing to its reputation as \"the intellectual capital of the United States.\"\n",
      "========================\n",
      "\n",
      "Got output: Boston has a rich cultural scene with a strong emphasis on arts and music. The city is home to several art museums and galleries, including the Museum of Fine Arts and the Isabella Stewart Gardner Museum. The Boston Symphony Orchestra, one of the \"Big Five\" American orchestras, is based in Symphony Hall. Boston also hosts various performing arts organizations, such as the Boston Ballet, Boston Lyric Opera Company, and the Handel and Haydn Society. Additionally, the city is known for its literary culture, with historical figures like Ralph Waldo Emerson and Nathaniel Hawthorne contributing to its reputation as \"the intellectual capital of the United States.\"\n",
      "========================\n",
      "\n"
     ]
    }
   ],
   "source": [
    "# should use Boston agent -> vector tool\n",
    "response = top_agent.query(\"Tell me about the arts and culture in Boston\")"
   ]
  },
  {
   "cell_type": "code",
   "execution_count": 45,
   "metadata": {
    "colab": {
     "base_uri": "https://localhost:8080/"
    },
    "id": "cVYo_fUvnerF",
    "outputId": "5c1225b0-daad-4a60-b8a9-4ed266fc18d3"
   },
   "outputs": [
    {
     "name": "stdout",
     "output_type": "stream",
     "text": [
      "Boston has a rich cultural scene with a strong emphasis on arts and music. The city is home to several art museums and galleries, including the Museum of Fine Arts and the Isabella Stewart Gardner Museum. The Boston Symphony Orchestra, one of the \"Big Five\" American orchestras, is based in Symphony Hall. Boston also hosts various performing arts organizations, such as the Boston Ballet, Boston Lyric Opera Company, and the Handel and Haydn Society. Additionally, the city is known for its literary culture, with historical figures like Ralph Waldo Emerson and Nathaniel Hawthorne contributing to its reputation as \"the intellectual capital of the United States.\"\n"
     ]
    }
   ],
   "source": [
    "print(response)"
   ]
  },
  {
   "cell_type": "code",
   "execution_count": 46,
   "metadata": {
    "colab": {
     "base_uri": "https://localhost:8080/"
    },
    "id": "W1j9Wt__njJR",
    "outputId": "2895e72c-858d-4ccf-bedf-1d90949e4aea"
   },
   "outputs": [
    {
     "name": "stdout",
     "output_type": "stream",
     "text": [
      "Boston has a rich arts and culture scene, with numerous art museums and galleries like the Museum of Fine Arts, Isabella Stewart Gardner Museum, and Institute of Contemporary Art. The city also boasts a vibrant music scene, highlighted by the Boston Symphony Orchestra, one of the \"Big Five\" American orchestras. Annual events such as the Boston Early Music Festival, Boston Arts Festival, and the Boston gay pride parade contribute to the city's cultural vibrancy. Boston also has a strong literary history, with renowned writers like Ralph Waldo Emerson, Nathaniel Hawthorne, and Henry Wadsworth Longfellow shaping the city's intellectual landscape.\n"
     ]
    }
   ],
   "source": [
    "\n",
    "# baseline\n",
    "response = base_query_engine.query(\n",
    "    \"Tell me about the arts and culture in Boston\"\n",
    ")\n",
    "print(str(response))"
   ]
  },
  {
   "cell_type": "code",
   "execution_count": 16,
   "metadata": {
    "colab": {
     "base_uri": "https://localhost:8080/"
    },
    "id": "LoozAkAhnlMn",
    "outputId": "62c5919c-0c3e-4a51-8638-e515510ba79c"
   },
   "outputs": [
    {
     "name": "stdout",
     "output_type": "stream",
     "text": [
      "In terms of history, the Premier League was established in 1992 and has since become one of the most popular and financially lucrative football leagues in the world. It is known for its competitive nature and has been dominated by clubs like Manchester United, Arsenal, Chelsea, Liverpool, and Manchester City. The league has also seen remarkable moments, such as Leicester City's title victory in the 2015-2016 season.\n",
      "\n",
      "On the other hand, La Liga has a longer history, dating back to 1929. It has been home to some of the most successful and iconic clubs in football, including Real Madrid and Barcelona. The league has witnessed periods of dominance from various clubs and has seen intense rivalries between teams. Real Madrid has been particularly successful in the Champions League, winning numerous titles.\n",
      "\n",
      "In terms of UEFA Champions League (UCL) performance, both leagues have had strong showings. English clubs have won a total of 15 UCL titles, making England the second-most successful country in the competition's history. Spanish clubs, especially Real Madrid and Barcelona, have also been highly successful in the UCL. Real Madrid holds the record for the most UCL titles won, while Barcelona has also had multiple triumphs in the competition. Other Spanish clubs like Atlético Madrid, Sevilla, and Valencia have also made their mark in European competitions.\n",
      "\n",
      "Overall, both the Premier League and La Liga have rich histories and have produced successful teams in the UEFA Champions League. The Premier League is known for its competitiveness and financial strength, while La Liga has a longer history and has been home to some of the most iconic clubs in football.\n"
     ]
    }
   ],
   "source": [
    "\n",
    "# should use Houston agent -> vector tool\n",
    "response = top_agent.query(\n",
    "    \"Give me a summary of all the positive aspects of Houston\"\n",
    ")"
   ]
  },
  {
   "cell_type": "code",
   "execution_count": 47,
   "metadata": {},
   "outputs": [
    {
     "name": "stdout",
     "output_type": "stream",
     "text": [
      "Houston is a vibrant city with a robust economy fueled by exports, especially in petroleum products and oil-related industries. It has a diverse and expanding international community, showcasing various cultural events that highlight its multicultural essence. The city is famous for its culinary scene and restaurant culture, along with a lively arts and theater scene featuring numerous performing arts organizations and museums. Houston is a sports hub, hosting teams in major professional leagues, and offers a plethora of tourist attractions, parks, and recreational areas, making it an attractive destination for residents and visitors alike.\n"
     ]
    }
   ],
   "source": [
    "# baseline\n",
    "response = base_query_engine.query(\n",
    "    \"Give me a summary of all the positive aspects of Houston\"\n",
    ")\n",
    "print(str(response))"
   ]
  },
  {
   "cell_type": "code",
   "execution_count": 48,
   "metadata": {},
   "outputs": [
    {
     "data": {
      "text/plain": [
       "'The city is home to the nation\\'s third-largest concentration of consular offices, representing 92 countries.Many annual events celebrate the diverse cultures of Houston. The largest and longest-running is the annual Houston Livestock Show and Rodeo, held over 20 days from early to late March, and is the largest annual livestock show and rodeo in the world. Another large celebration is the annual night-time Houston Gay Pride Parade, held at the end of June. Other notable annual events include the Houston Greek Festival, Art Car Parade, the Houston Auto Show, the Houston International Festival, and the Bayou City Art Festival, which is considered to be one of the top five art festivals in the United States.Houston is highly regarded for its diverse food and restaurant culture. Houston received the official nickname of \"Space City\" in 1967 because it is the location of NASA\\'s Lyndon B. Johnson Space Center. Other nicknames often used by locals include \"Bayou City\", \"Clutch City\", \"Crush City\", \"Magnolia City\", \"H-Town\", and \"Culinary Capital of the South\".\\r\\n\\r\\n\\r\\n=== Arts and theater ===\\r\\nThe Houston Theater District, in Downtown, is home to nine major performing arts organizations and six performance halls. It is the second-largest concentration of theater seats in a Downtown area in the United States.Houston is one of the few United States cities with permanent, professional, resident companies in all major performing arts disciplines: opera (Houston Grand Opera), ballet (Houston Ballet), music (Houston Symphony Orchestra), and theater (The Alley Theatre, Theatre Under the Stars). Houston is also home to folk artists, art groups and various small progressive arts organizations.Houston attracts many touring Broadway acts, concerts, shows, and exhibitions for a variety of interests. Facilities in the Theater District include the Jones Hall—home of the Houston Symphony Orchestra and Society for the Performing Arts—and the Hobby Center for the Performing Arts.\\r\\nThe Museum District\\'s cultural institutions and exhibits attract more than 7 million visitors a year. Notable facilities include The Museum of Fine Arts, the Houston Museum of Natural Science, the Contemporary Arts Museum Houston, the Station Museum of Contemporary Art, the Holocaust Museum Houston, the Children\\'s Museum of Houston, and the Houston Zoo.Located near the Museum District are The Menil Collection, Rothko Chapel, the Moody Center for the Arts and the Byzantine Fresco Chapel Museum.\\r\\nBayou Bend is a 14-acre (5.7 ha) facility of the Museum of Fine Arts that houses one of America\\'s most prominent collections of decorative art, paintings, and furniture. Bayou Bend is the former home of Houston philanthropist Ima Hogg.The National Museum of Funeral History is in Houston near the George Bush Intercontinental Airport. The museum houses the original Popemobile used by Pope John Paul II in the 1980s along with numerous hearses, embalming displays, and information on famous funerals.\\r\\nVenues across Houston regularly host local and touring rock, blues, country, dubstep, and Tejano musical acts. While Houston has never been widely known for its music scene, Houston hip hop has become a significant, independent music scene that is influential nationwide. Houston is the birthplace of the chopped and screwed remixing-technique in hip-hop which was pioneered by DJ Screw from the city. Some other notable hip-hop artists from the area include Destiny\\'s Child, Don Toliver, Slim Thug, Paul Wall, Mike Jones, Bun B, Geto Boys, Trae tha Truth, Kirko Bangz, Z-Ro, South Park Mexican, Travis Scott and Megan Thee Stallion.\\r\\n\\r\\n\\r\\n=== Tourism and recreation ===\\r\\nThe Theater District is a 17-block area in the center of Downtown Houston that is home to the Bayou Place entertainment complex, restaurants, movies, plazas, and parks. Bayou Place is a large multilevel building containing full-service restaurants, bars, live music, billiards, and Sundance Cinema. The Bayou Music Center stages live concerts, stage plays, and stand-up comedy.\\r\\nSpace Center Houston is the official visitors\\' center of NASA\\'s Lyndon B. Johnson Space Center. The Space Center has many interactive exhibits including Moon rocks, a Space Shuttle simulator, and presentations about the history of NASA\\'s manned space flight program. Other tourist attractions include the Galleria (Texas\\'s largest shopping mall, in the Uptown District), Old Market Square, the Downtown Aquarium, and Sam Houston Race Park.\\r\\nHouston\\'s current Chinatown and the Mahatma Gandhi District are two major ethnic enclaves, reflecting Houston\\'s multicultural makeup. Restaurants, bakeries, traditional-clothing boutiques, and specialty shops can be found in both areas.'"
      ]
     },
     "execution_count": 48,
     "metadata": {},
     "output_type": "execute_result"
    }
   ],
   "source": [
    "# baseline: the response doesn't quite match the sources...\n",
    "response.source_nodes[1].get_content()"
   ]
  },
  {
   "cell_type": "code",
   "execution_count": 49,
   "metadata": {},
   "outputs": [
    {
     "name": "stdout",
     "output_type": "stream",
     "text": [
      "Added user message to memory: Tell the demographics of Houston, and then compare that with the demographics of Chicago\n",
      "=== Calling Function ===\n",
      "Calling function: tool_Houston with args: {\"input\": \"demographics\"}\n",
      "Added user message to memory: demographics\n",
      "=== Calling Function ===\n",
      "Calling function: summary_tool with args: {\"input\":\"demographics\"}\n",
      "Got output: Houston is known for its diverse population, with various ethnic and religious backgrounds represented. The city has been described as the most racially and ethnically diverse major city in the U.S. Houston's population includes a large and growing international community, contributing to its status as a global city. Additionally, the city has a significant African American population, with historical ties to the post-Civil War era and the Great Migration.\n",
      "========================\n",
      "\n",
      "Got output: Houston is known for its diverse population, with various ethnic and religious backgrounds represented. The city has been described as the most racially and ethnically diverse major city in the U.S. Houston's population includes a large and growing international community, contributing to its status as a global city. Additionally, the city has a significant African American population, with historical ties to the post-Civil War era and the Great Migration.\n",
      "========================\n",
      "\n",
      "=== Calling Function ===\n",
      "Calling function: tool_Chicago with args: {\"input\": \"demographics\"}\n",
      "Added user message to memory: demographics\n",
      "=== Calling Function ===\n",
      "Calling function: summary_tool with args: {\"input\":\"Chicago demographics\"}\n",
      "Got output: Chicago's population in 2020 was 2,746,388 according to the census. In 1900, more than 77% of the population were either foreign-born or born in the United States of foreign parentage, with Germans, Irish, Poles, Swedes, and Czechs making up nearly two-thirds of the foreign-born population. Between 1910 and 1930, the African American population of Chicago increased dramatically, from 44,103 to 233,903, leading to the Chicago Black Renaissance.\n",
      "========================\n",
      "\n",
      "Got output: The population of Chicago in 2020 was 2,746,388 according to the census. In 1900, a significant percentage of the population were either foreign-born or born in the United States of foreign parentage, with Germans, Irish, Poles, Swedes, and Czechs being prominent. The African American population in Chicago saw a significant increase between 1910 and 1930, leading to the Chicago Black Renaissance.\n",
      "========================\n",
      "\n"
     ]
    }
   ],
   "source": [
    "\n",
    "response = top_agent.query(\n",
    "    \"Tell the demographics of Houston, and then compare that with the\"\n",
    "    \" demographics of Chicago\"\n",
    ")"
   ]
  },
  {
   "cell_type": "code",
   "execution_count": 50,
   "metadata": {},
   "outputs": [
    {
     "name": "stdout",
     "output_type": "stream",
     "text": [
      "Shanghai's history is marked by international trade and foreign influence, especially during the 19th and early 20th centuries, shaping its identity as a major commercial and financial center. In contrast, Beijing has a more traditional background as the political and cultural heart of China, emphasizing governance and imperial legacy.\n",
      "\n",
      "Currently, Shanghai is renowned for its emphasis on finance, innovation, and global trade, making a significant contribution to China's GDP. On the other hand, Beijing is known for its role as the political capital, housing government institutions and headquarters of state-owned enterprises, focusing on administrative functions and policy-making.\n"
     ]
    }
   ],
   "source": [
    "# baseline\n",
    "response = base_query_engine.query(\n",
    "    \"Tell me the differences between Shanghai and Beijing in terms of history\"\n",
    "    \" and current economy\"\n",
    ")\n",
    "print(str(response))"
   ]
  },
  {
   "cell_type": "markdown",
   "metadata": {},
   "source": [
    "参考链接：https://docs.llamaindex.ai/en/v0.10.33/"
   ]
  },
  {
   "cell_type": "code",
   "execution_count": null,
   "metadata": {},
   "outputs": [],
   "source": []
  },
  {
   "cell_type": "code",
   "execution_count": null,
   "metadata": {},
   "outputs": [],
   "source": []
  },
  {
   "cell_type": "code",
   "execution_count": null,
   "metadata": {},
   "outputs": [],
   "source": []
  }
 ],
 "metadata": {
  "colab": {
   "authorship_tag": "ABX9TyPUZj1zzKjIILyTHPOtMUgD",
   "include_colab_link": true,
   "provenance": []
  },
  "kernelspec": {
   "display_name": "Python 3 (ipykernel)",
   "language": "python",
   "name": "python3"
  },
  "language_info": {
   "codemirror_mode": {
    "name": "ipython",
    "version": 3
   },
   "file_extension": ".py",
   "mimetype": "text/x-python",
   "name": "python",
   "nbconvert_exporter": "python",
   "pygments_lexer": "ipython3",
   "version": "3.10.14"
  }
 },
 "nbformat": 4,
 "nbformat_minor": 4
}
