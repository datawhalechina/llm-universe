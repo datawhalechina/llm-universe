{
 "cells": [
  {
   "cell_type": "code",
   "execution_count": 1,
   "metadata": {},
   "outputs": [
    {
     "name": "stderr",
     "output_type": "stream",
     "text": [
      "d:\\Miniconda\\miniconda\\envs\\xuhu\\lib\\site-packages\\tqdm\\auto.py:21: TqdmWarning: IProgress not found. Please update jupyter and ipywidgets. See https://ipywidgets.readthedocs.io/en/stable/user_install.html\n",
      "  from .autonotebook import tqdm as notebook_tqdm\n"
     ]
    }
   ],
   "source": [
    "from Chat_QA_chain_self import Chat_QA_chain_self #带历史记录的问答链\n",
    "from QA_chain_self import QA_chain_self       #不带历史记录的问答链"
   ]
  },
  {
   "cell_type": "code",
   "execution_count": 2,
   "metadata": {},
   "outputs": [],
   "source": [
    "import os\n",
    "# os.environ"
   ]
  },
  {
   "cell_type": "markdown",
   "metadata": {},
   "source": [
    "## 带历史记录的问答链  "
   ]
  },
  {
   "cell_type": "code",
   "execution_count": 3,
   "metadata": {},
   "outputs": [],
   "source": [
    "# 定义参数\n",
    "# model可选值：[\"gpt-3.5-turbo\", \"gpt-3.5-turbo-16k-0613\", \"gpt-3.5-turbo-0613\", \"gpt-4\", \"gpt-4-32k\"]，[\"ERNIE-Bot\", \"ERNIE-Bot-4\", \"ERNIE-Bot-turbo\"]，\n",
    "# [\"Spark-1.5\", \"Spark-2.0\"]，[\"chatglm_pro\", \"chatglm_std\", \"chatglm_lite\", \"chatglm_turbo\"]\n",
    "model:str = \"chatglm_std\"\n",
    "temperature:float=0.0\n",
    "top_k:int=4 \n",
    "chat_history:list=[] \n",
    "file_path:str = \"../../data_base/knowledge_db\"\n",
    "persist_path:str = \"../../data_base/vector_db/chroma\"\n",
    "appid:str=None \n",
    "api_key:str = \"xxx\"   #or 从本地环境读取\n",
    "api_secret:str=None \n",
    "embedding = \"zhipuai\"     # [\"openai\",\"zhipuai\"]  默认openai\n",
    "embedding_key = \"xxx\""
   ]
  },
  {
   "cell_type": "code",
   "execution_count": 4,
   "metadata": {},
   "outputs": [
    {
     "name": "stdout",
     "output_type": "stream",
     "text": [
      "<Chat_QA_chain_self.Chat_QA_chain_self object at 0x000001DE7E93AAA0>\n"
     ]
    }
   ],
   "source": [
    "qa_chain = Chat_QA_chain_self(model=model, temperature=temperature, top_k=top_k, chat_history=chat_history, file_path=file_path, persist_path=persist_path, api_key=api_key, embedding = embedding, embedding_key=embedding_key)\n",
    "print(qa_chain)"
   ]
  },
  {
   "cell_type": "markdown",
   "metadata": {},
   "source": [
    "### 第一轮"
   ]
  },
  {
   "cell_type": "code",
   "execution_count": 5,
   "metadata": {},
   "outputs": [
    {
     "name": "stdout",
     "output_type": "stream",
     "text": [
      "\n"
     ]
    }
   ],
   "source": [
    "question = \"我可以学习到关于强化学习的知识吗？\"\n",
    "#answer,chat_history = qa_chain.answer(question)\n",
    "answer = qa_chain.answer(question)\n"
   ]
  },
  {
   "cell_type": "code",
   "execution_count": 6,
   "metadata": {},
   "outputs": [
    {
     "name": "stdout",
     "output_type": "stream",
     "text": [
      "('\" 是的,你可以通过学习来掌握强化学习的知识。强化学习是一种机器学习技术,它通过让机器在与环境的交互中学习,来训练机器做出最优的决策。你可以通过学习相关的书籍、课程和论文,来了解强化学习的基础知识、算法和应用。\"', [('我可以学习到关于强化学习的知识吗？', '\" 是的,你可以通过学习来掌握强化学习的知识。强化学习是一种机器学习技术,它通过让机器在与环境的交互中学习,来训练机器做出最优的决策。你可以通过学习相关的书籍、课程和论文,来了解强化学习的基础知识、算法和应用。\"')])\n",
      "[('我可以学习到关于强化学习的知识吗？', '\" 是的,你可以通过学习来掌握强化学习的知识。强化学习是一种机器学习技术,它通过让机器在与环境的交互中学习,来训练机器做出最优的决策。你可以通过学习相关的书籍、课程和论文,来了解强化学习的基础知识、算法和应用。\"')]\n"
     ]
    }
   ],
   "source": [
    "print(answer)\n",
    "print(chat_history)"
   ]
  },
  {
   "cell_type": "markdown",
   "metadata": {},
   "source": [
    "### 第二轮"
   ]
  },
  {
   "cell_type": "code",
   "execution_count": 7,
   "metadata": {},
   "outputs": [
    {
     "name": "stdout",
     "output_type": "stream",
     "text": [
      "\n",
      "\n"
     ]
    }
   ],
   "source": [
    "question = \"为什么这门课需要教这方面的知识？\"\n",
    "answer,chat_history = qa_chain.answer(question)"
   ]
  },
  {
   "cell_type": "code",
   "execution_count": 8,
   "metadata": {},
   "outputs": [
    {
     "name": "stdout",
     "output_type": "stream",
     "text": [
      "\" 强化学习是一种人工智能领域的技术，它通过让机器在与环境的交互中学习如何做出最优决策来改善其性能。强化学习在很多领域都有广泛的应用，例如自动驾驶、游戏控制、推荐系统、资源调度等。因此，教授强化学习的知识可以帮助学生掌握这种重要的技术，并能够在实际问题中应用它。\"\n",
      "[('我可以学习到关于强化学习的知识吗？', '\" 是的,你可以通过学习来掌握强化学习的知识。强化学习是一种机器学习技术,它通过让机器在与环境的交互中学习,来训练机器做出最优的决策。你可以通过学习相关的书籍、课程和论文,来了解强化学习的基础知识、算法和应用。\"'), ('为什么这门课需要教这方面的知识？', '\" 强化学习是一种人工智能领域的技术，它通过让机器在与环境的交互中学习如何做出最优决策来改善其性能。强化学习在很多领域都有广泛的应用，例如自动驾驶、游戏控制、推荐系统、资源调度等。因此，教授强化学习的知识可以帮助学生掌握这种重要的技术，并能够在实际问题中应用它。\"')]\n"
     ]
    }
   ],
   "source": [
    "print(answer)\n",
    "print(chat_history)"
   ]
  },
  {
   "cell_type": "markdown",
   "metadata": {},
   "source": [
    "### 改变历史记录的长度"
   ]
  },
  {
   "cell_type": "code",
   "execution_count": 9,
   "metadata": {},
   "outputs": [
    {
     "name": "stdout",
     "output_type": "stream",
     "text": [
      "[('为什么这门课需要教这方面的知识？', '\" 强化学习是一种人工智能领域的技术，它通过让机器在与环境的交互中学习如何做出最优决策来改善其性能。强化学习在很多领域都有广泛的应用，例如自动驾驶、游戏控制、推荐系统、资源调度等。因此，教授强化学习的知识可以帮助学生掌握这种重要的技术，并能够在实际问题中应用它。\"')]\n"
     ]
    }
   ],
   "source": [
    "history_len = 1 \n",
    "\n",
    "### 改变历史记录的长度,使用的是history_len参数来改变保留历史记录的长度\n",
    "chat_history = qa_chain.change_history_length(history_len)\n",
    "print(chat_history)"
   ]
  },
  {
   "cell_type": "markdown",
   "metadata": {},
   "source": [
    "### 清除历史记录"
   ]
  },
  {
   "cell_type": "code",
   "execution_count": 12,
   "metadata": {},
   "outputs": [
    {
     "name": "stdout",
     "output_type": "stream",
     "text": [
      "None\n"
     ]
    }
   ],
   "source": [
    "chat_history = qa_chain.clear_history()\n",
    "print(chat_history)"
   ]
  },
  {
   "cell_type": "markdown",
   "metadata": {},
   "source": [
    "## 不带历史记录的问答链"
   ]
  },
  {
   "cell_type": "code",
   "execution_count": 3,
   "metadata": {},
   "outputs": [],
   "source": [
    "# 定义参数\n",
    "# model可选值：[\"gpt-3.5-turbo\", \"gpt-3.5-turbo-16k-0613\", \"gpt-3.5-turbo-0613\", \"gpt-4\", \"gpt-4-32k\"]，[\"ERNIE-Bot\", \"ERNIE-Bot-4\", \"ERNIE-Bot-turbo\"]，\n",
    "# [\"Spark-1.5\", \"Spark-2.0\"]，[\"chatglm_pro\", \"chatglm_std\", \"chatglm_lite\", \"chatglm_turbo\"]\n",
    "model:str = \"chatglm_std\"\n",
    "temperature:float=0.0\n",
    "top_k:int=4 \n",
    "file_path:str = r\"..\\data_base\\knowledge_db\" \n",
    "persist_path:str = r\"..\\data_base\\vectore_db\\chroma\"\n",
    "appid:str=None \n",
    "api_key:str = \"xxx\"   #or从本地环境读取\n",
    "api_secret:str=None \n",
    "embedding = \"zhipuai\"\n",
    "embedding_key = \"xxx\""
   ]
  },
  {
   "cell_type": "code",
   "execution_count": 5,
   "metadata": {},
   "outputs": [
    {
     "name": "stdout",
     "output_type": "stream",
     "text": [
      "<QA_chain_self.QA_chain_self object at 0x000002B9C118A160>\n"
     ]
    }
   ],
   "source": [
    "#星火输入参数用法\n",
    "#qa_chain = QA_chain_self(model=model, temperature=temperature, top_k=top_k, file_path=file_path, persist_path=persist_path, appid=appid,api_key=api_key,Spark_api_secret=Spark_api_secret, embedding = embedding,embedding_key=embedding_key)\n",
    "\n",
    "##百度文心输入参数用法\n",
    "#qa_chain = QA_chain_self(model=model, temperature=temperature, top_k=top_k, file_path=file_path, persist_path=persist_path, appid=appid,api_key=api_key,Wenxin_api_secret=Wenxin_api_secret, embedding = embedding,embedding_key=embedding_key)\n",
    "\n",
    "#智谱(或OpenAI)输入参数用法\n",
    "qa_chain = QA_chain_self(model=model, temperature=temperature, top_k=top_k, file_path=file_path, persist_path=persist_path, appid=appid,api_key=api_key, embedding = embedding,embedding_key=embedding_key)\n",
    "print(qa_chain)"
   ]
  },
  {
   "cell_type": "code",
   "execution_count": null,
   "metadata": {},
   "outputs": [],
   "source": [
    "question = \"什么是蘑菇书？\"\n",
    "answer = qa_chain.answer(question)"
   ]
  },
  {
   "cell_type": "code",
   "execution_count": 17,
   "metadata": {},
   "outputs": [
    {
     "name": "stdout",
     "output_type": "stream",
     "text": [
      "\" 蘑菇书是一种描述蘑菇类生物的书籍，通常包括对蘑菇的生物学特征、分类、分布、生长环境以及食用和药用价值的详细介绍。谢谢你的提问！\"\n"
     ]
    }
   ],
   "source": [
    "print(answer)"
   ]
  },
  {
   "cell_type": "markdown",
   "metadata": {},
   "source": [
    "------------------\n",
    "> 其他模型可参考上面的实例进行使用，embedding 目前支持 openAI 和智谱的模型，其他类型敬请期待！"
   ]
  }
 ],
 "metadata": {
  "kernelspec": {
   "display_name": "xuhu",
   "language": "python",
   "name": "python3"
  },
  "language_info": {
   "codemirror_mode": {
    "name": "ipython",
    "version": 3
   },
   "file_extension": ".py",
   "mimetype": "text/x-python",
   "name": "python",
   "nbconvert_exporter": "python",
   "pygments_lexer": "ipython3",
   "version": "3.9.16"
  }
 },
 "nbformat": 4,
 "nbformat_minor": 2
}